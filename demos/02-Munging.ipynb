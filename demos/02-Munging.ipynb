{
 "cells": [
  {
   "cell_type": "markdown",
   "metadata": {},
   "source": [
    "# Demo 2: Munging\n",
    "\n",
    "## SETI Institute Grants\n",
    "![The redness of the rings remains a mystery](assets/redness_of_rings.png)"
   ]
  },
  {
   "cell_type": "markdown",
   "metadata": {},
   "source": [
    "## SETI grants: csv\n",
    "\n",
    "![SETI Institute Grants](assets/seti_csv.png)\n",
    "\n",
    "### Size\n",
    "\n",
    "Repeated the data to get a larger demo file and ended up with:\n",
    "\n",
    "* about 438,000 rows\n",
    "* about 372 MB\n",
    "\n",
    "### Fixes\n",
    "\n",
    "1. Add a column for fiscal year\n",
    "2. Shorten agency names\n",
    "3. Add state FIPS code"
   ]
  },
  {
   "cell_type": "code",
   "execution_count": null,
   "metadata": {},
   "outputs": [],
   "source": [
    "from datetime import datetime\n",
    "\n",
    "def fiscal_year(yyyymmdd):\n",
    "    \"\"\"Return federal fiscal year for specified date.\"\"\"\n",
    "    d = datetime.strptime(yyyymmdd, '%Y-%m-%d')\n",
    "    if d.month >= 10:\n",
    "        # federal fiscal year begins in October\n",
    "        return d.year + 1\n",
    "    else:\n",
    "        return d.year\n",
    "\n",
    "def agency_abbreviation(agency_code):\n",
    "    \"\"\"Return a short agency name.\"\"\"\n",
    "    agency_code = agency_code.zfill(3)\n",
    "    if agency_code == '080':\n",
    "        return 'NASA'\n",
    "    elif agency_code == '049':\n",
    "        return 'NSF'\n",
    "    elif agency_code == '014':\n",
    "        return 'DOI'\n",
    "    else:\n",
    "        return 'UNKNOWN'"
   ]
  },
  {
   "cell_type": "markdown",
   "metadata": {},
   "source": [
    "### Read each row"
   ]
  },
  {
   "cell_type": "code",
   "execution_count": null,
   "metadata": {},
   "outputs": [],
   "source": [
    "%%timeit -r 1\n",
    "import csv\n",
    "import pprint\n",
    "\n",
    "fips_dict = {}\n",
    "\n",
    "# create dictionary that maps state abbreviations to FIPS code\n",
    "with open('data/state_fips.csv') as csv_file:\n",
    "    fipsreader = csv.DictReader(csv_file)\n",
    "    for row in fipsreader:\n",
    "        fips_dict[row['abbreviation']] = row['fips']\n",
    "\n",
    "seti_updates = []\n",
    "with open('data/seti_big.csv') as csv_file:\n",
    "    setireader = csv.DictReader(csv_file)    \n",
    "    for row in setireader:\n",
    "        # abbreviate agency name\n",
    "        row['awarding_agency_name'] = agency_abbreviation(row['awarding_agency_code'])\n",
    "        # add fiscal year column\n",
    "        row['action_year'] = fiscal_year(row['action_date'])\n",
    "        # look up state FIPS code\n",
    "        row['recipient_state_fips'] = fips_dict.get(row['recipient_state_code'], '99')\n",
    "        seti_updates.append(row)\n",
    "\n",
    "pprint.pprint(seti_updates[0])"
   ]
  },
  {
   "cell_type": "markdown",
   "metadata": {},
   "source": [
    "### Convert to dataframe and update"
   ]
  },
  {
   "cell_type": "code",
   "execution_count": null,
   "metadata": {},
   "outputs": [],
   "source": [
    "%%timeit -r 1\n",
    "import pandas as pd\n",
    "\n",
    "fips_df = pd.read_csv('data/state_fips.csv')\n",
    "seti_df = pd.read_csv('data/seti_big.csv', dtype={'awarding_agency_code': str})\n",
    "\n",
    "# abbreviate agency name\n",
    "seti_df['awarding_agency_name'] = seti_df['awarding_agency_code'].apply(agency_abbreviation)\n",
    "# add fiscal year columns\n",
    "seti_df['action_year'] = seti_df['action_date'].apply(fiscal_year)\n",
    "# merge in state FIPS code\n",
    "seti_df = seti_df.merge(fips_df, left_on='recipient_state_code', right_on='abbreviation', how='left')\n",
    "\n",
    "print(seti_df.head(1))"
   ]
  }
 ],
 "metadata": {
  "kernelspec": {
   "display_name": "Python 3",
   "language": "python",
   "name": "python3"
  },
  "language_info": {
   "codemirror_mode": {
    "name": "ipython",
    "version": 3
   },
   "file_extension": ".py",
   "mimetype": "text/x-python",
   "name": "python",
   "nbconvert_exporter": "python",
   "pygments_lexer": "ipython3",
   "version": "3.6.2"
  }
 },
 "nbformat": 4,
 "nbformat_minor": 2
}
