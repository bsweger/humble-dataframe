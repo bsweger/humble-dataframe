{
 "cells": [
  {
   "cell_type": "markdown",
   "metadata": {},
   "source": [
    "# Demo 3: Glue\n",
    "\n",
    "## Other formats\n",
    "\n",
    "Because you can create a pandas dataframe from many types of formats, you can use the same munging code regardless of data source.\n",
    "https://pandas.pydata.org/pandas-docs/stable/io.html\n",
    "\n",
    "![Pandas IO](assets/pandas_io.png)\n",
    "\n",
    "### JSON and APIs"
   ]
  },
  {
   "cell_type": "code",
   "execution_count": null,
   "metadata": {},
   "outputs": [],
   "source": [
    "import json\n",
    "import requests\n",
    "import pandas as pd\n",
    "from pandas.io.json import json_normalize\n",
    "\n",
    "pd.options.display.float_format = '{:,.0f}'.format\n",
    "\n",
    "# documentation of the usaspending API: api.usaspending.gov\n",
    "uri = 'https://api.usaspending.gov/api/v2/search/spending_by_award/'\n",
    "headers = {'content-type': 'application/json'}\n",
    "awards_json = []\n",
    "page = 1\n",
    "while page:\n",
    "    payload = {\n",
    "        \"filters\":{\"time_period\":[{\"start_date\":\"2015-10-01\",\"end_date\":\"2018-09-30\"}],\n",
    "        \"award_type_codes\":[\"02\",\"03\",\"04\",\"05\"],\n",
    "        \"place_of_performance_locations\":[{\"country\":\"USA\",\"state\":\"MA\",\"county\":\"015\"}]}, # Hampshire County\n",
    "        \"fields\":[\"Award ID\",\"Recipient Name\",\"Start Date\",\"End Date\",\"Award Amount\",\"Awarding Agency\",\"Awarding Sub Agency\",\"Award Type\", \"Description\"],\n",
    "        \"page\":page,\n",
    "        \"limit\":100\n",
    "    }\n",
    "    r = requests.post(uri, data=json.dumps(payload), headers=headers)  \n",
    "    awards_json.extend(r.json()['results'])\n",
    "    if r.json()['page_metadata']['hasNext']:\n",
    "        page = page + 1\n",
    "    else:\n",
    "        page = None\n",
    "\n",
    "awards_json[0:2]"
   ]
  },
  {
   "cell_type": "code",
   "execution_count": null,
   "metadata": {},
   "outputs": [],
   "source": [
    "awards_df = pd.DataFrame(json_normalize(awards_json))\n",
    "awards_df[:10]"
   ]
  },
  {
   "cell_type": "markdown",
   "metadata": {},
   "source": [
    "### SQL"
   ]
  },
  {
   "cell_type": "code",
   "execution_count": null,
   "metadata": {},
   "outputs": [],
   "source": [
    "import pandas as pd\n",
    "from sqlalchemy import create_engine\n",
    "\n",
    "engine = create_engine('postgresql://becky@localhost:5432/usaspending')\n",
    "recipients = pd.read_sql('select * from legal_entity limit 10000;', engine)\n",
    "recipients.head()"
   ]
  },
  {
   "cell_type": "markdown",
   "metadata": {},
   "source": [
    "### Parquet\n",
    "\n",
    "[Apache Parquet](https://parquet.apache.org/) is a columnar storage format, commonly used with Spark and the Hadoop ecosystem. It's not limited to that ecosystem, however. Another use case is sending Parquet files to AWS S3 for use with Athena."
   ]
  },
  {
   "cell_type": "code",
   "execution_count": null,
   "metadata": {},
   "outputs": [],
   "source": [
    "import io\n",
    "\n",
    "import boto3\n",
    "import pandas as pd\n",
    "\n",
    "s3 = boto3.resource('s3')\n",
    "bucket = s3.Bucket('humble-dataframe')\n",
    "recipients.to_parquet('data/recipients.parquet', compression='gzip')\n",
    "bucket.put_object(Body='data/recipients.parquet', Key='recipients.parquet')\n",
    "\n",
    "# There's a patch in pandas dev branch to write parquet directly to S3, so soon the following syntax should work:\n",
    "# recipients.to_parquet('s3://humble-dataframe/recipients.parquet', compression='gzip')"
   ]
  },
  {
   "cell_type": "markdown",
   "metadata": {},
   "source": [
    "## Other Tools\n",
    "\n",
    "Many tools understand data frames. Just a few:\n",
    "\n",
    "* scikit-learn\n",
    "* statsmodels\n",
    "* seaborn\n",
    "* bokeh\n",
    "* plotly\n",
    "* geopandas\n",
    "* jupyter notebook\n",
    "* apache arrow\n"
   ]
  },
  {
   "cell_type": "code",
   "execution_count": null,
   "metadata": {},
   "outputs": [],
   "source": [
    "import seaborn as sns\n",
    "%matplotlib inline"
   ]
  },
  {
   "cell_type": "code",
   "execution_count": null,
   "metadata": {},
   "outputs": [],
   "source": [
    "awards_df.head()"
   ]
  },
  {
   "cell_type": "code",
   "execution_count": null,
   "metadata": {},
   "outputs": [],
   "source": [
    "charty = sns.barplot(x=\"Award Amount\", y=\"Awarding Agency\", ci=None, data=awards_df)"
   ]
  }
 ],
 "metadata": {
  "kernelspec": {
   "display_name": "Python 3",
   "language": "python",
   "name": "python3"
  },
  "language_info": {
   "codemirror_mode": {
    "name": "ipython",
    "version": 3
   },
   "file_extension": ".py",
   "mimetype": "text/x-python",
   "name": "python",
   "nbconvert_exporter": "python",
   "pygments_lexer": "ipython3",
   "version": "3.6.2"
  }
 },
 "nbformat": 4,
 "nbformat_minor": 2
}
