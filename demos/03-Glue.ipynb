{
 "cells": [
  {
   "cell_type": "markdown",
   "metadata": {},
   "source": [
    "# Demo 3: Glue\n",
    "\n",
    "## Other formats\n",
    "\n",
    "Because you can create a pandas dataframe from many types of formats, you can use the same munging code regardless of data source.\n",
    "https://pandas.pydata.org/pandas-docs/stable/io.html\n",
    "\n",
    "![Pandas IO](assets/pandas_io.png)\n",
    "\n",
    "### Get USAspending data via API"
   ]
  },
  {
   "cell_type": "code",
   "execution_count": null,
   "metadata": {},
   "outputs": [],
   "source": [
    "import json\n",
    "import requests\n",
    "import pandas as pd\n",
    "from pandas.io.json import json_normalize\n",
    "\n",
    "uri = 'https://api.usaspending.gov/api/v2/search/spending_by_award/'\n",
    "headers = {'content-type': 'application/json'}\n",
    "awards_json = []\n",
    "page = 1\n",
    "while page:\n",
    "    payload = {\n",
    "        \"filters\":{\"time_period\":[{\"start_date\":\"2009-10-01\",\"end_date\":\"2018-09-30\"}],\n",
    "        \"award_type_codes\":[\"02\",\"03\",\"04\",\"05\"],\n",
    "        \"place_of_performance_locations\":[{\"country\":\"USA\",\"state\":\"MA\",\"county\":\"015\"}]}, # Hampshire County\n",
    "        \"fields\":[\"Award ID\",\"Recipient Name\",\"Start Date\",\"End Date\",\"Award Amount\",\"Awarding Agency\",\"Awarding Sub Agency\",\"Award Type\", \"Description\"],\n",
    "        \"page\":page,\n",
    "        \"limit\":100\n",
    "    }\n",
    "    r = requests.post(uri, data=json.dumps(payload), headers=headers)  \n",
    "    awards_json.extend(r.json()['results'])\n",
    "    if r.json()['page_metadata']['hasNext']:\n",
    "        page = page + 1\n",
    "    else:\n",
    "        page = None\n",
    "\n",
    "awards_df = pd.DataFrame(json_normalize(awards_json))\n",
    "awards_df[:10]"
   ]
  }
 ],
 "metadata": {
  "kernelspec": {
   "display_name": "Python 3",
   "language": "python",
   "name": "python3"
  },
  "language_info": {
   "codemirror_mode": {
    "name": "ipython",
    "version": 3
   },
   "file_extension": ".py",
   "mimetype": "text/x-python",
   "name": "python",
   "nbconvert_exporter": "python",
   "pygments_lexer": "ipython3",
   "version": "3.6.2"
  }
 },
 "nbformat": 4,
 "nbformat_minor": 2
}
