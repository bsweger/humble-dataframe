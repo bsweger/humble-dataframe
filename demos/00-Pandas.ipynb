{
 "cells": [
  {
   "cell_type": "markdown",
   "metadata": {},
   "source": [
    "# Pandas\n",
    "\n",
    "http://pandas.pydata.org/pandas-docs/stable/\n",
    "\n",
    "## What is it?\n",
    "\n",
    "> pandas is a Python package providing fast, flexible, and expressive data structures designed to make working with “relational” or “labeled” data both easy and intuitive\n",
    "\n",
    "## Array Programming\n",
    "\n",
    "Pandas is built on top of Numpy, a Python library that enables array programming\n",
    "\n",
    "- fast, efficient operations on arrays of homogeneous data\n",
    "- you operate on aggregates of data; no explicit loops\n",
    "- many operations performed via compiled code"
   ]
  },
  {
   "cell_type": "code",
   "execution_count": null,
   "metadata": {},
   "outputs": [],
   "source": [
    "import pandas as pd\n",
    "\n",
    "pancakes = {\n",
    "    'name': ['Steves Sugar Shack', 'Goulds', 'Davenport', 'Windy Hill Farm', 'Red Bucket', 'Hanging Basket'],\n",
    "    'visits': [7, 2, 4, 1, 2, 7],\n",
    "    'rating': [5, 5, 5, 5, 5, 5]\n",
    "}\n",
    "\n",
    "pancakes_df = pd.DataFrame.from_dict(pancakes)"
   ]
  },
  {
   "cell_type": "code",
   "execution_count": null,
   "metadata": {},
   "outputs": [],
   "source": [
    "pancakes_df"
   ]
  },
  {
   "cell_type": "code",
   "execution_count": null,
   "metadata": {},
   "outputs": [],
   "source": [
    "pancakes_df.mean()"
   ]
  },
  {
   "cell_type": "code",
   "execution_count": null,
   "metadata": {},
   "outputs": [],
   "source": [
    "pancakes_df.rating = pancakes_df.rating + 5\n",
    "pancakes_df"
   ]
  }
 ],
 "metadata": {
  "kernelspec": {
   "display_name": "Python 3",
   "language": "python",
   "name": "python3"
  },
  "language_info": {
   "codemirror_mode": {
    "name": "ipython",
    "version": 3
   },
   "file_extension": ".py",
   "mimetype": "text/x-python",
   "name": "python",
   "nbconvert_exporter": "python",
   "pygments_lexer": "ipython3",
   "version": "3.6.2"
  }
 },
 "nbformat": 4,
 "nbformat_minor": 2
}
