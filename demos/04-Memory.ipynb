{
 "cells": [
  {
   "cell_type": "markdown",
   "metadata": {},
   "source": [
    "# Memory Workarounds\n",
    "\n",
    "## Informed Reading"
   ]
  },
  {
   "cell_type": "code",
   "execution_count": null,
   "metadata": {},
   "outputs": [],
   "source": [
    "import numpy as np\n",
    "import pandas as pd\n",
    "\n",
    "# read small subset of rows to learn more about the data\n",
    "recent_contracts_subset = pd.read_csv(\n",
    "    's3://usaspending-files/contracts_prime_transactions_last_three_months.csv',\n",
    "    nrows=5\n",
    ")\n",
    "\n",
    "list(recent_contracts_subset.columns)"
   ]
  },
  {
   "cell_type": "code",
   "execution_count": null,
   "metadata": {},
   "outputs": [],
   "source": [
    "# define the columns you want\n",
    "columns = [\n",
    "    'award_id_piid',\n",
    "    'action_date', \n",
    "    'awarding_agency_name', \n",
    "    'primary_place_of_performance_state_name', \n",
    "    'primary_place_of_performance_county_name',\n",
    "    'naics_description',\n",
    "    'award_type',\n",
    "    'federal_action_obligation'\n",
    "]\n",
    "\n",
    "# define the data types\n",
    "dtypes = {\n",
    "    'action_date': np.dtype(str),\n",
    "    'awarding_agency_name': np.dtype(str),\n",
    "    'federal_action_obligation': np.dtype(float)    \n",
    "}"
   ]
  },
  {
   "cell_type": "code",
   "execution_count": null,
   "metadata": {},
   "outputs": [],
   "source": [
    "recent_contracts = pd.read_csv(\n",
    "    # 's3://usaspending-files/contracts_prime_transactions_last_three_months.csv', \n",
    "    'data/contracts_prime_transactions_last_three_months.csv',\n",
    "    usecols = columns,\n",
    "    dtype = dtypes\n",
    ")\n",
    "recent_contracts.tail()"
   ]
  },
  {
   "cell_type": "markdown",
   "metadata": {},
   "source": [
    "## Chunk\n"
   ]
  },
  {
   "cell_type": "code",
   "execution_count": null,
   "metadata": {},
   "outputs": [],
   "source": [
    "contract_chunks = pd.read_csv(\n",
    "    # 's3://usaspending-files/contracts_prime_transactions_last_three_months.csv', \n",
    "    'data/contracts_prime_transactions_last_three_months.csv',\n",
    "    usecols = columns,\n",
    "    dtype = dtypes,\n",
    "    chunksize=25000\n",
    ")\n",
    "recent_contracts_chunked = pd.concat([chunk for chunk in contract_chunks], ignore_index=True)\n",
    "recent_contracts_chunked.tail()"
   ]
  },
  {
   "cell_type": "markdown",
   "metadata": {},
   "source": [
    "## Divide and Conquer\n",
    "\n",
    "There a few projects that provide a wrapper for the pandas dataframe to distribute the data and computation.\n",
    "\n",
    "### Dask\n",
    "Parallel computing with task scheduling. Two components:\n",
    "\n",
    "1. Dynamic task scheduling\n",
    "2. \"Big Data\" collections\n",
    "\n",
    "Provides a parallelized DataFrame object based on the pandas datadframe.\n",
    "\n",
    "    >>> import dask.dataframe as dd\n",
    "    >>> df = dd.read_csv('2014-*.csv')\n",
    "\n",
    "[![dask](https://www.continuum.io/sites/default/files/7-anaconda-and-dask.gif)"
   ]
  },
  {
   "cell_type": "markdown",
   "metadata": {},
   "source": [
    "### Ray\n",
    "\n",
    "This is bleeding-edge and interesting, but not yet fully functional."
   ]
  },
  {
   "cell_type": "code",
   "execution_count": null,
   "metadata": {},
   "outputs": [],
   "source": [
    "# pip install -U https://s3-us-west-2.amazonaws.com/ray-wheels/latest/ray-0.3.1-cp36-cp36m-macosx_10_6_intel.whl\n",
    "# ray wheel list: https://pypi.python.org/pypi/ray/0.3.1\n",
    "from datetime import datetime\n",
    "\n",
    "import ray.dataframe as pd2\n",
    "\n",
    "\n",
    "def fiscal_year(yyyymmdd):\n",
    "    \"\"\"Return federal fiscal year for specified date.\"\"\"\n",
    "    d = datetime.strptime(yyyymmdd, '%Y-%m-%d')\n",
    "    if d.month >= 10:\n",
    "        # federal fiscal year begins in October\n",
    "        return d.year + 1\n",
    "    else:\n",
    "        return d.year\n",
    "\n",
    "def agency_abbreviation(agency_code):\n",
    "    \"\"\"Return a short agency name.\"\"\"\n",
    "    agency_code = agency_code.zfill(3)\n",
    "    if agency_code == '080':\n",
    "        return 'NASA'\n",
    "    elif agency_code == '049':\n",
    "        return 'NSF'\n",
    "    elif agency_code == '014':\n",
    "        return 'DOI'\n",
    "    else:\n",
    "        return 'UNKNOWN'\n",
    "\n",
    "fips_df = pd2.read_csv('data/state_fips.csv')\n",
    "seti_df = pd2.read_csv('data/seti_big.csv', nrows=30000, dtype={'awarding_agency_code': str})\n",
    "\n",
    "# abbreviate agency name\n",
    "seti_df['awarding_agency_code'].apply(agency_abbreviation)\n",
    "# add fiscal year columns\n",
    "seti_df['action_date'].apply(fiscal_year)\n",
    "# merge in state FIPS code\n",
    "# seti_df = seti_df.merge(fips_df, left_on='recipient_state_code', right_on='abbreviation', how='left')\n",
    "seti_df.head()"
   ]
  }
 ],
 "metadata": {
  "kernelspec": {
   "display_name": "Python 3",
   "language": "python",
   "name": "python3"
  },
  "language_info": {
   "codemirror_mode": {
    "name": "ipython",
    "version": 3
   },
   "file_extension": ".py",
   "mimetype": "text/x-python",
   "name": "python",
   "nbconvert_exporter": "python",
   "pygments_lexer": "ipython3",
   "version": "3.6.2"
  }
 },
 "nbformat": 4,
 "nbformat_minor": 2
}
