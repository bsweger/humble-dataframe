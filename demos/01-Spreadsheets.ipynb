{
 "cells": [
  {
   "cell_type": "markdown",
   "metadata": {},
   "source": [
    "# Demo 1: Spreadsheets\n",
    "\n",
    "## USAspending\n",
    "[![USAspending](assets/usaspending.png)](http://www.usaspending.gov)\n",
    "\n",
    "## Federal accounts\n",
    "[![Federal Accounts](assets/federal_accounts.png)](https://www.usaspending.gov/#/federal_account)\n",
    "\n",
    "## Federal accounts as spreadsheet\n",
    "[![Accounts spreadsheet](assets/federal_accounts_spreadsheet.png)](https://docs.google.com/spreadsheets/d/1C7YusuHvSR0o0pIBvPA1AcwqYDeSVwrS1Ed8MWZMOTo)"
   ]
  },
  {
   "cell_type": "markdown",
   "metadata": {},
   "source": [
    "## Pandas: create dataframe from spreadsheet"
   ]
  },
  {
   "cell_type": "code",
   "execution_count": null,
   "metadata": {},
   "outputs": [],
   "source": [
    "import pandas as pd\n",
    "\n",
    "# tweak the pandas display settings so dollar amounts are more readable\n",
    "pd.options.display.float_format = '{:,.0f}'.format\n",
    "\n",
    "acct = pd.read_excel('data/federal_accounts.xlsx')\n",
    "acct.account_id = acct.account_id.astype(str)\n",
    "acct.agency_identifier = acct.agency_identifier.astype(str)\n",
    "acct.head(5)"
   ]
  },
  {
   "cell_type": "markdown",
   "metadata": {},
   "source": [
    "## Do spreadsheet-y things\n",
    "\n",
    "### Sort"
   ]
  },
  {
   "cell_type": "code",
   "execution_count": null,
   "metadata": {
    "scrolled": true
   },
   "outputs": [],
   "source": [
    "acct = acct.sort_values(['fiscal_year', 'account_name'])\n",
    "acct.head(5)"
   ]
  },
  {
   "cell_type": "markdown",
   "metadata": {},
   "source": [
    "### Filter"
   ]
  },
  {
   "cell_type": "code",
   "execution_count": null,
   "metadata": {},
   "outputs": [],
   "source": [
    "# Federal accounts with budgetary resources > $100,000,000,000\n",
    "big_acct = acct[acct['budgetary_resources']>=100000000000]\n",
    "print(f'\\n{len(big_acct)} accounts had more than $100,000,000,000 in fiscal year 2017:')\n",
    "big_acct.sort_values(by='budgetary_resources', ascending=False).head(3)"
   ]
  },
  {
   "cell_type": "markdown",
   "metadata": {},
   "source": [
    "### Pivot"
   ]
  },
  {
   "cell_type": "code",
   "execution_count": null,
   "metadata": {},
   "outputs": [],
   "source": [
    "pd.pivot_table(\n",
    "    acct,\n",
    "    values='budgetary_resources',\n",
    "    index=['managing_agency', 'account_number', 'account_name', 'account_id', 'managing_agency_acronym'],\n",
    "    columns=['fiscal_year']\n",
    ")"
   ]
  },
  {
   "cell_type": "markdown",
   "metadata": {},
   "source": [
    "### Functions"
   ]
  },
  {
   "cell_type": "code",
   "execution_count": null,
   "metadata": {},
   "outputs": [],
   "source": [
    "# Show dollar amounts as per-capita\n",
    "# U.S. population estimate on 1/1/18:  326,971,407\n",
    "# source: https://www.census.gov/newsroom/press-releases/2017/new-years-2018.html\n",
    "\n",
    "acct['budgetary_resources_per_capita'] = acct['budgetary_resources']/326971407\n",
    "acct[['account_name', 'fiscal_year', 'budgetary_resources', 'budgetary_resources_per_capita']].head(5)"
   ]
  },
  {
   "cell_type": "code",
   "execution_count": null,
   "metadata": {},
   "outputs": [],
   "source": [
    "# Sum budgetary resources by agency\n",
    "acct_group = acct.groupby(['managing_agency', 'fiscal_year']).sum()\n",
    "acct_group"
   ]
  }
 ],
 "metadata": {
  "kernelspec": {
   "display_name": "Python 3",
   "language": "python",
   "name": "python3"
  },
  "language_info": {
   "codemirror_mode": {
    "name": "ipython",
    "version": 3
   },
   "file_extension": ".py",
   "mimetype": "text/x-python",
   "name": "python",
   "nbconvert_exporter": "python",
   "pygments_lexer": "ipython3",
   "version": "3.6.2"
  }
 },
 "nbformat": 4,
 "nbformat_minor": 2
}
